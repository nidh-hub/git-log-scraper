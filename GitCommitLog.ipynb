{
 "cells": [
  {
   "cell_type": "code",
   "execution_count": 3,
   "id": "f0fa919a",
   "metadata": {},
   "outputs": [
    {
     "ename": "NoSuchPathError",
     "evalue": "C:\\Users\\Nidhi.Chakravarthy\\enter\\your\\local\\repo\\path",
     "output_type": "error",
     "traceback": [
      "\u001b[1;31m---------------------------------------------------------------------------\u001b[0m",
      "\u001b[1;31mNoSuchPathError\u001b[0m                           Traceback (most recent call last)",
      "\u001b[1;32m~\\AppData\\Local\\Temp\\ipykernel_1708\\1697758607.py\u001b[0m in \u001b[0;36m<module>\u001b[1;34m\u001b[0m\n\u001b[0;32m      4\u001b[0m \u001b[1;33m\u001b[0m\u001b[0m\n\u001b[0;32m      5\u001b[0m \u001b[1;31m# Path to the Git repository\u001b[0m\u001b[1;33m\u001b[0m\u001b[1;33m\u001b[0m\u001b[0m\n\u001b[1;32m----> 6\u001b[1;33m \u001b[0mrepo\u001b[0m \u001b[1;33m=\u001b[0m \u001b[0mgit\u001b[0m\u001b[1;33m.\u001b[0m\u001b[0mRepo\u001b[0m\u001b[1;33m(\u001b[0m\u001b[1;34m'enter/your/local/repo/path'\u001b[0m\u001b[1;33m)\u001b[0m\u001b[1;33m\u001b[0m\u001b[1;33m\u001b[0m\u001b[0m\n\u001b[0m\u001b[0;32m      7\u001b[0m \u001b[1;33m\u001b[0m\u001b[0m\n\u001b[0;32m      8\u001b[0m data = {\n",
      "\u001b[1;32m~\\Anaconda3\\lib\\site-packages\\git\\repo\\base.py\u001b[0m in \u001b[0;36m__init__\u001b[1;34m(self, path, odbt, search_parent_directories, expand_vars)\u001b[0m\n\u001b[0;32m    222\u001b[0m         \u001b[1;32mif\u001b[0m \u001b[0mepath\u001b[0m \u001b[1;32mis\u001b[0m \u001b[1;32mnot\u001b[0m \u001b[1;32mNone\u001b[0m\u001b[1;33m:\u001b[0m\u001b[1;33m\u001b[0m\u001b[1;33m\u001b[0m\u001b[0m\n\u001b[0;32m    223\u001b[0m             \u001b[1;32mif\u001b[0m \u001b[1;32mnot\u001b[0m \u001b[0mos\u001b[0m\u001b[1;33m.\u001b[0m\u001b[0mpath\u001b[0m\u001b[1;33m.\u001b[0m\u001b[0mexists\u001b[0m\u001b[1;33m(\u001b[0m\u001b[0mepath\u001b[0m\u001b[1;33m)\u001b[0m\u001b[1;33m:\u001b[0m\u001b[1;33m\u001b[0m\u001b[1;33m\u001b[0m\u001b[0m\n\u001b[1;32m--> 224\u001b[1;33m                 \u001b[1;32mraise\u001b[0m \u001b[0mNoSuchPathError\u001b[0m\u001b[1;33m(\u001b[0m\u001b[0mepath\u001b[0m\u001b[1;33m)\u001b[0m\u001b[1;33m\u001b[0m\u001b[1;33m\u001b[0m\u001b[0m\n\u001b[0m\u001b[0;32m    225\u001b[0m \u001b[1;33m\u001b[0m\u001b[0m\n\u001b[0;32m    226\u001b[0m         \u001b[1;31m## Walk up the path to find the `.git` dir.\u001b[0m\u001b[1;33m\u001b[0m\u001b[1;33m\u001b[0m\u001b[0m\n",
      "\u001b[1;31mNoSuchPathError\u001b[0m: C:\\Users\\Nidhi.Chakravarthy\\enter\\your\\local\\repo\\path"
     ]
    }
   ],
   "source": [
    "import git\n",
    "import pandas as pd\n",
    "from datetime import datetime\n",
    "\n",
    "# Path to the Git repository\n",
    "repo = git.Repo('enter/your/local/repo/path')\n",
    "\n",
    "data = {\n",
    "    \"commitId\": [],\n",
    "    \"fileName\": [],\n",
    "    \"userName\": [],\n",
    "    \"userEmail\": [],\n",
    "    \"commitDate\": [],\n",
    "    \"commitMessage\": [],\n",
    "    \"status\": []  # New column for status\n",
    "}\n",
    "\n",
    "for commit in repo.iter_commits('--all'):\n",
    "    data[\"commitId\"].append(commit.hexsha)\n",
    "    data[\"userName\"].append(commit.author.name)\n",
    "    data[\"userEmail\"].append(commit.author.email)\n",
    "    data[\"commitDate\"].append(datetime.fromtimestamp(commit.committed_date))\n",
    "    data[\"commitMessage\"].append(commit.message.strip())\n",
    "\n",
    "    parent_commit = commit.parents[0] if commit.parents else None\n",
    "\n",
    "    files_changed = []\n",
    "    if parent_commit:\n",
    "        diff = parent_commit.diff(commit)\n",
    "        for change in diff:\n",
    "            files_changed.append(change.b_path)\n",
    "    \n",
    "    data[\"fileName\"].append(files_changed)\n",
    "\n",
    "# Determine status based on the number of items in the 'fileName' array\n",
    "for files_changed in data[\"fileName\"]:\n",
    "    if len(files_changed) > 1:\n",
    "        data[\"status\"].append('Warning! This commit includes multiple files')\n",
    "    else:\n",
    "        data[\"status\"].append('Commit OK')\n",
    "\n",
    "# Modify 'fileName' column based on status\n",
    "for i, status in enumerate(data[\"status\"]):\n",
    "    if status == 'Commit OK':\n",
    "        data[\"fileName\"][i] = data[\"fileName\"][i][0] if data[\"fileName\"][i] else ''\n",
    "\n",
    "df = pd.DataFrame(data)\n",
    "excel_file_path = 'enter/path/for/git_commits.xlsx'\n",
    "df.to_excel(excel_file_path, index=False)\n",
    "\n",
    "print(f'Git commit history exported to {excel_file_path}')\n"
   ]
  },
  {
   "cell_type": "code",
   "execution_count": null,
   "id": "d73b4c30",
   "metadata": {},
   "outputs": [],
   "source": []
  }
 ],
 "metadata": {
  "kernelspec": {
   "display_name": "Python 3 (ipykernel)",
   "language": "python",
   "name": "python3"
  },
  "language_info": {
   "codemirror_mode": {
    "name": "ipython",
    "version": 3
   },
   "file_extension": ".py",
   "mimetype": "text/x-python",
   "name": "python",
   "nbconvert_exporter": "python",
   "pygments_lexer": "ipython3",
   "version": "3.9.13"
  }
 },
 "nbformat": 4,
 "nbformat_minor": 5
}
