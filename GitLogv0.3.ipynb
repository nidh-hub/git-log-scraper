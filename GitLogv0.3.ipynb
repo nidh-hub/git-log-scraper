{
 "cells": [
  {
   "cell_type": "code",
   "execution_count": 30,
   "id": "603950bb",
   "metadata": {},
   "outputs": [
    {
     "name": "stdout",
     "output_type": "stream",
     "text": [
      "[]\n"
     ]
    },
    {
     "data": {
      "text/plain": [
       "\"# Write DataFrame to Excel file\\nexcel_file_path = 'C:/Users/Nidhi.Chakravarthy/Documents/git_commits.xlsx'\\ndf.to_excel(excel_file_path, index=False)\\n\\nprint(f'Git commit history exported to {excel_file_path}')\\n\""
      ]
     },
     "execution_count": 30,
     "metadata": {},
     "output_type": "execute_result"
    }
   ],
   "source": [
    "import git\n",
    "import pandas as pd\n",
    "from datetime import datetime\n",
    "\n",
    "# Path to the Git repository\n",
    "repo_path = 'C:/Users/Nidhi.Chakravarthy/Autoencoder'\n",
    "\n",
    "# Open the repository\n",
    "repo = git.Repo(repo_path)\n",
    "\n",
    "# Get the commit history\n",
    "commit_history = repo.iter_commits()\n",
    "\n",
    "# Create a list to store commit information\n",
    "commit_data = []\n",
    "\n",
    "# Iterate over commits\n",
    "for commit in commit_history:\n",
    "    print(commit.diff())\n",
    "    break\n",
    "  \n",
    "    # Create a dictionary for the commit\n",
    "    commit_info = {\n",
    "        'Commit ID': commit.hexsha,\n",
    "        'Author': commit.author.name,\n",
    "        'Author Email': commit.author.email,\n",
    "        'Author Date': commit.authored_datetime.strftime('%Y-%m-%d %H:%M:%S'),  # Convert to string\n",
    "        'Committer': commit.committer.name,\n",
    "        'Committer Email': commit.committer.email,\n",
    "        'Commit Date': commit.committed_datetime.strftime('%Y-%m-%d %H:%M:%S'),  # Convert to string\n",
    "        'Message': commit.message,\n",
    "        'Branches': ', '.join(branch.name for branch in repo.branches if commit in repo.iter_commits(branch)),\n",
    "        'Parents': ', '.join(p.hexsha for p in commit.parents),  # List parent commit(s) if any\n",
    "        'Files Changed': ', '.join(item.a_path if item.a_path else item.b_path for item in commit.diff())  # List of changed files\n",
    "    }\n",
    "\n",
    "    # Append the commit information to the list\n",
    "    commit_data.append(commit_info)\n",
    "    break\n",
    "# Convert commit data to DataFrame\n",
    "df = pd.DataFrame(commit_data)\n",
    "\n",
    "df\n",
    "\n",
    "'''# Write DataFrame to Excel file\n",
    "excel_file_path = 'C:/Users/Nidhi.Chakravarthy/Documents/git_commits.xlsx'\n",
    "df.to_excel(excel_file_path, index=False)\n",
    "\n",
    "print(f'Git commit history exported to {excel_file_path}')\n",
    "'''"
   ]
  },
  {
   "cell_type": "code",
   "execution_count": 28,
   "id": "0a2b6fe3",
   "metadata": {},
   "outputs": [
    {
     "data": {
      "text/html": [
       "<div>\n",
       "<style scoped>\n",
       "    .dataframe tbody tr th:only-of-type {\n",
       "        vertical-align: middle;\n",
       "    }\n",
       "\n",
       "    .dataframe tbody tr th {\n",
       "        vertical-align: top;\n",
       "    }\n",
       "\n",
       "    .dataframe thead th {\n",
       "        text-align: right;\n",
       "    }\n",
       "</style>\n",
       "<table border=\"1\" class=\"dataframe\">\n",
       "  <thead>\n",
       "    <tr style=\"text-align: right;\">\n",
       "      <th></th>\n",
       "      <th>Commit ID</th>\n",
       "      <th>Author</th>\n",
       "      <th>Author Email</th>\n",
       "      <th>Author Date</th>\n",
       "      <th>Committer</th>\n",
       "      <th>Committer Email</th>\n",
       "      <th>Commit Date</th>\n",
       "      <th>Message</th>\n",
       "      <th>Branches</th>\n",
       "      <th>Parents</th>\n",
       "      <th>Files Changed</th>\n",
       "    </tr>\n",
       "  </thead>\n",
       "  <tbody>\n",
       "    <tr>\n",
       "      <th>0</th>\n",
       "      <td>ccdcb226221dc5c4cf1c958c065a6b64ce4580b1</td>\n",
       "      <td>Nidhi Chakravarthy</td>\n",
       "      <td>nidhi.chakravarthy@holleyholland.com</td>\n",
       "      <td>2024-02-26 17:26:02</td>\n",
       "      <td>Nidhi Chakravarthy</td>\n",
       "      <td>nidhi.chakravarthy@holleyholland.com</td>\n",
       "      <td>2024-02-26 17:26:02</td>\n",
       "      <td>New model created\\n</td>\n",
       "      <td>master</td>\n",
       "      <td>dcf5ee572d803c6399345262d07e28b36b31c40c</td>\n",
       "      <td></td>\n",
       "    </tr>\n",
       "  </tbody>\n",
       "</table>\n",
       "</div>"
      ],
      "text/plain": [
       "                                  Commit ID              Author  \\\n",
       "0  ccdcb226221dc5c4cf1c958c065a6b64ce4580b1  Nidhi Chakravarthy   \n",
       "\n",
       "                           Author Email          Author Date  \\\n",
       "0  nidhi.chakravarthy@holleyholland.com  2024-02-26 17:26:02   \n",
       "\n",
       "            Committer                       Committer Email  \\\n",
       "0  Nidhi Chakravarthy  nidhi.chakravarthy@holleyholland.com   \n",
       "\n",
       "           Commit Date              Message Branches  \\\n",
       "0  2024-02-26 17:26:02  New model created\\n   master   \n",
       "\n",
       "                                    Parents Files Changed  \n",
       "0  dcf5ee572d803c6399345262d07e28b36b31c40c                "
      ]
     },
     "execution_count": 28,
     "metadata": {},
     "output_type": "execute_result"
    }
   ],
   "source": [
    "df"
   ]
  },
  {
   "cell_type": "code",
   "execution_count": null,
   "id": "db9ee022",
   "metadata": {},
   "outputs": [],
   "source": []
  }
 ],
 "metadata": {
  "kernelspec": {
   "display_name": "Python 3 (ipykernel)",
   "language": "python",
   "name": "python3"
  },
  "language_info": {
   "codemirror_mode": {
    "name": "ipython",
    "version": 3
   },
   "file_extension": ".py",
   "mimetype": "text/x-python",
   "name": "python",
   "nbconvert_exporter": "python",
   "pygments_lexer": "ipython3",
   "version": "3.9.13"
  }
 },
 "nbformat": 4,
 "nbformat_minor": 5
}
